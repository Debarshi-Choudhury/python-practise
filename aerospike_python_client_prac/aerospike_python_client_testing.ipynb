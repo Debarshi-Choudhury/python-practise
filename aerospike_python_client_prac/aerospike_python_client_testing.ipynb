{
 "cells": [
  {
   "cell_type": "code",
   "execution_count": null,
   "id": "879a7482",
   "metadata": {},
   "outputs": [],
   "source": [
    "import aerospike"
   ]
  },
  {
   "cell_type": "code",
   "execution_count": null,
   "id": "0593e3ef",
   "metadata": {},
   "outputs": [],
   "source": [
    "config = {\n",
    "    'hosts': [\n",
    "        ( '127.0.0.1', 3000 )\n",
    "    ],\n",
    "    'policies': {\n",
    "        'timeout': 1000 # milliseconds\n",
    "    }\n",
    "#     # if user authentication is enabled\n",
    "#     'user': user,\n",
    "#     'password': password\n",
    "}"
   ]
  },
  {
   "cell_type": "code",
   "execution_count": null,
   "id": "0459c9e3",
   "metadata": {},
   "outputs": [],
   "source": [
    "client = aerospike.client(config)"
   ]
  },
  {
   "cell_type": "code",
   "execution_count": null,
   "id": "b39b2acb",
   "metadata": {},
   "outputs": [],
   "source": [
    "# # Connect happens automatically , but we need to connect if it is previously closed\n",
    "# client.connect()\n",
    "\n",
    "# # Close the connection to the server\n",
    "# client.close()\n",
    "\n"
   ]
  },
  {
   "cell_type": "code",
   "execution_count": null,
   "id": "6287eaac",
   "metadata": {},
   "outputs": [],
   "source": [
    "# Create new write policy\n",
    "write_policy = {'key': aerospike.POLICY_KEY_SEND}"
   ]
  },
  {
   "cell_type": "code",
   "execution_count": null,
   "id": "062c7dcb",
   "metadata": {},
   "outputs": [],
   "source": [
    "# Create the record key\n",
    "# key = ('test', 'first_set', my_64_bit_unsigned_int)\n",
    "# key = ('test', 'first_set', int_as_bytes__8_bytes_little)\n",
    "# key = ('test', 'first_set', int_as_bytes__8_bytes_big)\n",
    "key = ('test', 'first_set', int_as_bytearray__8_bytes_big)"
   ]
  },
  {
   "cell_type": "code",
   "execution_count": null,
   "id": "7dfe6118",
   "metadata": {},
   "outputs": [],
   "source": [
    "# Create new read policy\n",
    "read_policy = {'socket_timeout': 300}"
   ]
  },
  {
   "cell_type": "code",
   "execution_count": null,
   "id": "9f3a4823",
   "metadata": {},
   "outputs": [],
   "source": [
    "# Get record metadata\n",
    "(received_key, meta) = client.exists(key, policy=read_policy)\n",
    "print(received_key)\n",
    "\n",
    "# Do something\n",
    "exists = True\n",
    "if meta == None:\n",
    "    exists = False\n",
    "print('Exists: ', exists)\n",
    "\n",
    "if exists:\n",
    "    # Get bins 'report' and 'location'\n",
    "    (key_, meta, bins) = client.select(key, (\"data\",), policy=read_policy)\n",
    "    # Do something\n",
    "    print('Record: ', bins)"
   ]
  }
 ],
 "metadata": {
  "kernelspec": {
   "display_name": "Python 3 (ipykernel)",
   "language": "python",
   "name": "python3"
  },
  "language_info": {
   "codemirror_mode": {
    "name": "ipython",
    "version": 3
   },
   "file_extension": ".py",
   "mimetype": "text/x-python",
   "name": "python",
   "nbconvert_exporter": "python",
   "pygments_lexer": "ipython3",
   "version": "3.10.6"
  }
 },
 "nbformat": 4,
 "nbformat_minor": 5
}
