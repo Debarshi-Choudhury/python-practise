{
 "cells": [
  {
   "cell_type": "code",
   "execution_count": 3,
   "id": "5f5c428a",
   "metadata": {},
   "outputs": [
    {
     "name": "stdout",
     "output_type": "stream",
     "text": [
      "Collecting ripemd-hash\n",
      "  Downloading ripemd-hash-1.0.0.tar.gz (18 kB)\n",
      "  Preparing metadata (setup.py) ... \u001b[?25ldone\n",
      "\u001b[?25hBuilding wheels for collected packages: ripemd-hash\n",
      "  Building wheel for ripemd-hash (setup.py) ... \u001b[?25ldone\n",
      "\u001b[?25h  Created wheel for ripemd-hash: filename=ripemd_hash-1.0.0-cp310-cp310-linux_x86_64.whl size=19083 sha256=8a6f5b9e88f11e90e1586e76f173644802d125172b6b9e62d88d98c771d9aa19\n",
      "  Stored in directory: /home/debarshi_unix/.cache/pip/wheels/47/bf/29/a573e9b1fb48354bd5f98c2efd407cf51dd420950fff9b7090\n",
      "Successfully built ripemd-hash\n",
      "Installing collected packages: ripemd-hash\n",
      "Successfully installed ripemd-hash-1.0.0\n",
      "\n",
      "\u001b[1m[\u001b[0m\u001b[34;49mnotice\u001b[0m\u001b[1;39;49m]\u001b[0m\u001b[39;49m A new release of pip is available: \u001b[0m\u001b[31;49m23.0\u001b[0m\u001b[39;49m -> \u001b[0m\u001b[32;49m23.0.1\u001b[0m\n",
      "\u001b[1m[\u001b[0m\u001b[34;49mnotice\u001b[0m\u001b[1;39;49m]\u001b[0m\u001b[39;49m To update, run: \u001b[0m\u001b[32;49mpip install --upgrade pip\u001b[0m\n"
     ]
    }
   ],
   "source": [
    "!pip install ripemd-hash"
   ]
  },
  {
   "cell_type": "code",
   "execution_count": 5,
   "id": "6d79bc32",
   "metadata": {},
   "outputs": [],
   "source": [
    "from ripemd.ripemd160 import ripemd160"
   ]
  },
  {
   "cell_type": "code",
   "execution_count": 9,
   "id": "3efb9a10",
   "metadata": {},
   "outputs": [
    {
     "data": {
      "text/plain": [
       "True"
      ]
     },
     "execution_count": 9,
     "metadata": {},
     "output_type": "execute_result"
    }
   ],
   "source": [
    "# testing installation # should be true\n",
    "\n",
    "ripemd160(b'abc').hex() == '8eb208f7e05d987a9b044a8e98c6b087f15a0bfc'\n",
    "ripemd160(b'a' * 1000000).hex() == '52783243c1697bdbe16d37f97f68f08325dc1528'"
   ]
  },
  {
   "cell_type": "code",
   "execution_count": 21,
   "id": "d40d1564",
   "metadata": {},
   "outputs": [
    {
     "name": "stdout",
     "output_type": "stream",
     "text": [
      "c47907abd2a80492ca9388b05c0e382518ff3960\n"
     ]
    },
    {
     "ename": "TypeError",
     "evalue": "Object type <class 'str'> cannot be passed to C code",
     "output_type": "error",
     "traceback": [
      "\u001b[0;31m---------------------------------------------------------------------------\u001b[0m",
      "\u001b[0;31mTypeError\u001b[0m                                 Traceback (most recent call last)",
      "Cell \u001b[0;32mIn[21], line 2\u001b[0m\n\u001b[1;32m      1\u001b[0m \u001b[38;5;28mprint\u001b[39m(ripemd160(\u001b[38;5;124mb\u001b[39m\u001b[38;5;124m'\u001b[39m\u001b[38;5;124m1\u001b[39m\u001b[38;5;124m'\u001b[39m)\u001b[38;5;241m.\u001b[39mhex())\n\u001b[0;32m----> 2\u001b[0m \u001b[38;5;28mprint\u001b[39m(\u001b[43mripemd160\u001b[49m\u001b[43m(\u001b[49m\u001b[38;5;124;43m\"\u001b[39;49m\u001b[38;5;124;43m1\u001b[39;49m\u001b[38;5;124;43m\"\u001b[39;49m\u001b[43m)\u001b[49m\u001b[38;5;241m.\u001b[39mhex())\n\u001b[1;32m      3\u001b[0m \u001b[38;5;66;03m# print(ripemd160(1).hex())\u001b[39;00m\n",
      "File \u001b[0;32m~/random_code/jupyter_local_installation/myVirEnv/lib/python3.10/site-packages/ripemd/ripemd160.py:161\u001b[0m, in \u001b[0;36mripemd160\u001b[0;34m(data)\u001b[0m\n\u001b[1;32m    153\u001b[0m \u001b[38;5;28;01mdef\u001b[39;00m \u001b[38;5;21mripemd160\u001b[39m(data):\n\u001b[1;32m    154\u001b[0m \u001b[38;5;250m\t\u001b[39m\u001b[38;5;124;03m\"\"\"\u001b[39;00m\n\u001b[1;32m    155\u001b[0m \u001b[38;5;124;03m\tReturn the **binary** (non-printable) digest of data.\u001b[39;00m\n\u001b[1;32m    156\u001b[0m \n\u001b[1;32m    157\u001b[0m \u001b[38;5;124;03m\t:return: The hash digest of data. Binary form.\u001b[39;00m\n\u001b[1;32m    158\u001b[0m \u001b[38;5;124;03m    :rtype: byte string\u001b[39;00m\n\u001b[1;32m    159\u001b[0m \u001b[38;5;124;03m\t\"\"\"\u001b[39;00m\n\u001b[0;32m--> 161\u001b[0m \t\u001b[38;5;28;01mreturn\u001b[39;00m \u001b[43mRIPEMD160Hash\u001b[49m\u001b[43m(\u001b[49m\u001b[43m)\u001b[49m\u001b[38;5;241;43m.\u001b[39;49m\u001b[43mnew\u001b[49m\u001b[43m(\u001b[49m\u001b[43mdata\u001b[49m\u001b[43m)\u001b[49m\u001b[38;5;241m.\u001b[39mdigest()\n",
      "File \u001b[0;32m~/random_code/jupyter_local_installation/myVirEnv/lib/python3.10/site-packages/ripemd/ripemd160.py:137\u001b[0m, in \u001b[0;36mRIPEMD160Hash.new\u001b[0;34m(self, data)\u001b[0m\n\u001b[1;32m    134\u001b[0m \u001b[38;5;28;01mdef\u001b[39;00m \u001b[38;5;21mnew\u001b[39m(\u001b[38;5;28mself\u001b[39m, data\u001b[38;5;241m=\u001b[39m\u001b[38;5;28;01mNone\u001b[39;00m):\n\u001b[1;32m    135\u001b[0m \u001b[38;5;250m    \u001b[39m\u001b[38;5;124;03m\"\"\"Create a fresh RIPEMD-160 hash object.\"\"\"\u001b[39;00m\n\u001b[0;32m--> 137\u001b[0m     \u001b[38;5;28;01mreturn\u001b[39;00m \u001b[43mRIPEMD160Hash\u001b[49m\u001b[43m(\u001b[49m\u001b[43mdata\u001b[49m\u001b[43m)\u001b[49m\n",
      "File \u001b[0;32m~/random_code/jupyter_local_installation/myVirEnv/lib/python3.10/site-packages/ripemd/ripemd160.py:83\u001b[0m, in \u001b[0;36mRIPEMD160Hash.__init__\u001b[0;34m(self, data)\u001b[0m\n\u001b[1;32m     80\u001b[0m \u001b[38;5;28mself\u001b[39m\u001b[38;5;241m.\u001b[39m_state \u001b[38;5;241m=\u001b[39m SmartPointer(state\u001b[38;5;241m.\u001b[39mget(),\n\u001b[1;32m     81\u001b[0m                            _raw_ripemd160_lib\u001b[38;5;241m.\u001b[39mripemd160_destroy)\n\u001b[1;32m     82\u001b[0m \u001b[38;5;28;01mif\u001b[39;00m data:\n\u001b[0;32m---> 83\u001b[0m     \u001b[38;5;28;43mself\u001b[39;49m\u001b[38;5;241;43m.\u001b[39;49m\u001b[43mupdate\u001b[49m\u001b[43m(\u001b[49m\u001b[43mdata\u001b[49m\u001b[43m)\u001b[49m\n",
      "File \u001b[0;32m~/random_code/jupyter_local_installation/myVirEnv/lib/python3.10/site-packages/ripemd/ripemd160.py:93\u001b[0m, in \u001b[0;36mRIPEMD160Hash.update\u001b[0;34m(self, data)\u001b[0m\n\u001b[1;32m     85\u001b[0m \u001b[38;5;28;01mdef\u001b[39;00m \u001b[38;5;21mupdate\u001b[39m(\u001b[38;5;28mself\u001b[39m, data):\n\u001b[1;32m     86\u001b[0m \u001b[38;5;250m    \u001b[39m\u001b[38;5;124;03m\"\"\"Continue hashing of a message by consuming the next chunk of data.\u001b[39;00m\n\u001b[1;32m     87\u001b[0m \n\u001b[1;32m     88\u001b[0m \u001b[38;5;124;03m    Args:\u001b[39;00m\n\u001b[1;32m     89\u001b[0m \u001b[38;5;124;03m        data (byte string/byte array/memoryview): The next chunk of the message being hashed.\u001b[39;00m\n\u001b[1;32m     90\u001b[0m \u001b[38;5;124;03m    \"\"\"\u001b[39;00m\n\u001b[1;32m     92\u001b[0m     result \u001b[38;5;241m=\u001b[39m _raw_ripemd160_lib\u001b[38;5;241m.\u001b[39mripemd160_update(\u001b[38;5;28mself\u001b[39m\u001b[38;5;241m.\u001b[39m_state\u001b[38;5;241m.\u001b[39mget(),\n\u001b[0;32m---> 93\u001b[0m                                                  \u001b[43mc_uint8_ptr\u001b[49m\u001b[43m(\u001b[49m\u001b[43mdata\u001b[49m\u001b[43m)\u001b[49m,\n\u001b[1;32m     94\u001b[0m                                                  c_size_t(\u001b[38;5;28mlen\u001b[39m(data)))\n\u001b[1;32m     95\u001b[0m     \u001b[38;5;28;01mif\u001b[39;00m result:\n\u001b[1;32m     96\u001b[0m         \u001b[38;5;28;01mraise\u001b[39;00m \u001b[38;5;167;01mValueError\u001b[39;00m(\u001b[38;5;124m\"\u001b[39m\u001b[38;5;124mError \u001b[39m\u001b[38;5;132;01m%d\u001b[39;00m\u001b[38;5;124m while instantiating ripemd160\u001b[39m\u001b[38;5;124m\"\u001b[39m\n\u001b[1;32m     97\u001b[0m                          \u001b[38;5;241m%\u001b[39m result)\n",
      "File \u001b[0;32m~/random_code/jupyter_local_installation/myVirEnv/lib/python3.10/site-packages/ripemd/_raw_api.py:149\u001b[0m, in \u001b[0;36mc_uint8_ptr\u001b[0;34m(data)\u001b[0m\n\u001b[1;32m    147\u001b[0m     \u001b[38;5;28;01mreturn\u001b[39;00m data\n\u001b[1;32m    148\u001b[0m \u001b[38;5;28;01melse\u001b[39;00m:\n\u001b[0;32m--> 149\u001b[0m     \u001b[38;5;28;01mraise\u001b[39;00m \u001b[38;5;167;01mTypeError\u001b[39;00m(\u001b[38;5;124m\"\u001b[39m\u001b[38;5;124mObject type \u001b[39m\u001b[38;5;132;01m%s\u001b[39;00m\u001b[38;5;124m cannot be passed to C code\u001b[39m\u001b[38;5;124m\"\u001b[39m \u001b[38;5;241m%\u001b[39m \u001b[38;5;28mtype\u001b[39m(data))\n",
      "\u001b[0;31mTypeError\u001b[0m: Object type <class 'str'> cannot be passed to C code"
     ]
    }
   ],
   "source": [
    "print(ripemd160(b'1').hex())\n",
    "print(ripemd160(\"1\").hex())\n",
    "# print(ripemd160(1).hex())\n"
   ]
  },
  {
   "cell_type": "code",
   "execution_count": 36,
   "id": "cc1086de",
   "metadata": {},
   "outputs": [
    {
     "name": "stdout",
     "output_type": "stream",
     "text": [
      "b'A'\n",
      "ddadef707ba62c166051b9e3cd0294c27515f2bc\n",
      "b'A'\n",
      "ddadef707ba62c166051b9e3cd0294c27515f2bc\n"
     ]
    }
   ],
   "source": [
    "my_int = 65\n",
    "int_as_bytes = my_int.to_bytes(1,'big')\n",
    "print(int_as_bytes)\n",
    "print(ripemd160(int_as_bytes).hex())\n",
    "\n",
    "my_str = 'A'\n",
    "str_as_bytes = bytes(my_str, 'utf-8')\n",
    "print(str_as_bytes)\n",
    "print(ripemd160(str_as_bytes).hex())"
   ]
  },
  {
   "cell_type": "code",
   "execution_count": 38,
   "id": "20a23799",
   "metadata": {},
   "outputs": [
    {
     "name": "stdout",
     "output_type": "stream",
     "text": [
      "A\n",
      "<class 'str'>\n"
     ]
    }
   ],
   "source": [
    "strA = \"Hello\"\n",
    "\n",
    "bytesStr = b'A'\n",
    "regenerated_str = bytesStr.decode('utf-8')\n",
    "print(regenerated_str)\n",
    "print(type(regenerated_str))\n"
   ]
  },
  {
   "cell_type": "code",
   "execution_count": 75,
   "id": "b6f27143",
   "metadata": {},
   "outputs": [
    {
     "name": "stdout",
     "output_type": "stream",
     "text": [
      "b'\\xff\\xff\\xff\\xff\\xff\\xff\\xff\\xff' cb760221600ed34337ca3ab70016b5f58c838120\n",
      "b'\\xff\\xff\\xff\\xff\\xff\\xff\\xff\\xff' cb760221600ed34337ca3ab70016b5f58c838120\n"
     ]
    }
   ],
   "source": [
    "def hash_using_ripemd160(inp_bytes):\n",
    "    return ripemd160(inp_bytes).hex()\n",
    "\n",
    "\n",
    "my_64_bit_unsigned_int = 9_500_000_000_000_000_000\n",
    "my_64_bit_unsigned_int = 18_446_744_073_709_551_615\n",
    "int_as_bytes__20_bytes = my_64_bit_unsigned_int.to_bytes(8 ,'little')\n",
    "int_as_bytes__22_bytes = my_64_bit_unsigned_int.to_bytes(8 ,'little')\n",
    "\n",
    "print(int_as_bytes__20_bytes, hash_using_ripemd160(int_as_bytes__20_bytes))\n",
    "print(int_as_bytes__22_bytes, hash_using_ripemd160(int_as_bytes__22_bytes))\n",
    "\n",
    "\n",
    "# my_64_bit_unsigned_int=\"aabbaaaaaa\"\n",
    "# int_as_bytes = bytes(my_64_bit_unsigned_int, 'utf-8')\n",
    "\n",
    "# print(int_as_bytes)\n",
    "# my_reconverted_str = int_as_bytes.decode('utf-8')\n",
    "\n",
    "# print(my_reconverted_str)\n",
    "# print(ripemd160(int_as_bytes).hex())\n",
    "\n",
    "\n",
    "\n"
   ]
  },
  {
   "cell_type": "code",
   "execution_count": 139,
   "id": "d8ac1696",
   "metadata": {},
   "outputs": [
    {
     "name": "stdout",
     "output_type": "stream",
     "text": [
      "18446744073709551615\n",
      "<class 'int'>\n",
      "cb760221600ed34337ca3ab70016b5f58c838120\n"
     ]
    }
   ],
   "source": [
    "# aaa is 2^64 - 1\n",
    "aaa=18446744073709551615\n",
    "print(aaa)\n",
    "print(type(aaa))\n",
    "\n",
    "print(hash_using_ripemd160(aaa.to_bytes(8, 'little')))"
   ]
  },
  {
   "cell_type": "code",
   "execution_count": 76,
   "id": "928c9f95",
   "metadata": {},
   "outputs": [],
   "source": [
    "import aerospike"
   ]
  },
  {
   "cell_type": "code",
   "execution_count": 77,
   "id": "8ea420cd",
   "metadata": {},
   "outputs": [],
   "source": [
    "config = {\n",
    "    'hosts': [\n",
    "        ( '127.0.0.1', 3000 )\n",
    "    ],\n",
    "    'policies': {\n",
    "        'timeout': 1000 # milliseconds\n",
    "    }\n",
    "#     # if user authentication is enabled\n",
    "#     'user': user,\n",
    "#     'password': password\n",
    "}"
   ]
  },
  {
   "cell_type": "code",
   "execution_count": 79,
   "id": "bf1063ce",
   "metadata": {},
   "outputs": [],
   "source": [
    "client = aerospike.client(config)"
   ]
  },
  {
   "cell_type": "code",
   "execution_count": 96,
   "id": "0f7dd4eb",
   "metadata": {},
   "outputs": [],
   "source": [
    "# Create new write policy\n",
    "write_policy = {'key': aerospike.POLICY_KEY_SEND}"
   ]
  },
  {
   "cell_type": "code",
   "execution_count": 128,
   "id": "4b813df5",
   "metadata": {},
   "outputs": [
    {
     "name": "stdout",
     "output_type": "stream",
     "text": [
      "9223372036854775807\n",
      "b'\\xff\\xff\\xff\\xff\\xff\\xff\\xff\\x7f'\n",
      "b'\\x7f\\xff\\xff\\xff\\xff\\xff\\xff\\xff'\n",
      "bytearray(b'\\x7f\\xff\\xff\\xff\\xff\\xff\\xff\\xff')\n"
     ]
    }
   ],
   "source": [
    "# my_64_bit_unsigned_int = 9_500_000_000_000_000_001\n",
    "my_64_bit_unsigned_int = 9_223_372_036_854_775_807  # max value of signed 64-bit int\n",
    "int_as_bytes__8_bytes_little = my_64_bit_unsigned_int.to_bytes(8 ,'little')\n",
    "int_as_bytes__8_bytes_big = my_64_bit_unsigned_int.to_bytes(8 ,'big')\n",
    "int_as_bytearray__8_bytes_big = bytearray(my_64_bit_unsigned_int.to_bytes(8 ,'big'))\n",
    "\n",
    "print(my_64_bit_unsigned_int)\n",
    "print(int_as_bytes__8_bytes_little)\n",
    "print(int_as_bytes__8_bytes_big)\n",
    "print(int_as_bytearray__8_bytes_big)"
   ]
  },
  {
   "cell_type": "code",
   "execution_count": 129,
   "id": "f5f8f266",
   "metadata": {},
   "outputs": [],
   "source": [
    "# Create the record key\n",
    "# key = ('test', 'first_set', my_64_bit_unsigned_int)\n",
    "# key = ('test', 'first_set', int_as_bytes__8_bytes_little)\n",
    "# key = ('test', 'first_set', int_as_bytes__8_bytes_big)\n",
    "key = ('test', 'first_set', int_as_bytearray__8_bytes_big)"
   ]
  },
  {
   "cell_type": "code",
   "execution_count": 130,
   "id": "e7051bce",
   "metadata": {},
   "outputs": [
    {
     "data": {
      "text/plain": [
       "0"
      ]
     },
     "execution_count": 130,
     "metadata": {},
     "output_type": "execute_result"
    }
   ],
   "source": [
    "# Create the bins\n",
    "bins = {\n",
    "    'data':'Data D'\n",
    "}\n",
    "\n",
    "# Write the record to Aerospike\n",
    "client.put(key, bins, policy=write_policy)\n",
    "\n"
   ]
  },
  {
   "cell_type": "code",
   "execution_count": null,
   "id": "d3606083",
   "metadata": {},
   "outputs": [],
   "source": [
    "# # Connect happens automatically , but we need to connect if it is previously closed\n",
    "# client.connect()\n",
    "\n",
    "# # Close the connection to the server\n",
    "# client.close()\n",
    "\n"
   ]
  },
  {
   "cell_type": "code",
   "execution_count": null,
   "id": "e0b7075d",
   "metadata": {},
   "outputs": [],
   "source": []
  },
  {
   "cell_type": "code",
   "execution_count": 108,
   "id": "d89a3b01",
   "metadata": {},
   "outputs": [],
   "source": [
    "# Create new read policy\n",
    "read_policy = {'socket_timeout': 300}"
   ]
  },
  {
   "cell_type": "code",
   "execution_count": 133,
   "id": "182f635e",
   "metadata": {},
   "outputs": [
    {
     "name": "stdout",
     "output_type": "stream",
     "text": [
      "('test', 'first_set', bytearray(b'\\x7f\\xff\\xff\\xff\\xff\\xff\\xff\\xff'), bytearray(b'o\\xdb\\x0b9\\xd2\\x98\\xfe\\xfe4\\xfc\\x7f\\x92Y\\xe7\\x88C_\\xd4dH'))\n",
      "Exists:  True\n",
      "Record:  {'data': 'Data D'}\n"
     ]
    }
   ],
   "source": [
    "# Get record metadata\n",
    "(received_key, meta) = client.exists(key, policy=read_policy)\n",
    "print(received_key)\n",
    "\n",
    "# Do something\n",
    "exists = True\n",
    "if meta == None:\n",
    "    exists = False\n",
    "print('Exists: ', exists)\n",
    "\n",
    "if exists:\n",
    "    # Get bins 'report' and 'location'\n",
    "    (key_, meta, bins) = client.select(key, (\"data\",), policy=read_policy)\n",
    "    # Do something\n",
    "    print('Record: ', bins)"
   ]
  },
  {
   "cell_type": "code",
   "execution_count": null,
   "id": "d129ba8b",
   "metadata": {},
   "outputs": [],
   "source": [
    "     "
   ]
  }
 ],
 "metadata": {
  "kernelspec": {
   "display_name": "Python 3 (ipykernel)",
   "language": "python",
   "name": "python3"
  },
  "language_info": {
   "codemirror_mode": {
    "name": "ipython",
    "version": 3
   },
   "file_extension": ".py",
   "mimetype": "text/x-python",
   "name": "python",
   "nbconvert_exporter": "python",
   "pygments_lexer": "ipython3",
   "version": "3.10.6"
  }
 },
 "nbformat": 4,
 "nbformat_minor": 5
}
